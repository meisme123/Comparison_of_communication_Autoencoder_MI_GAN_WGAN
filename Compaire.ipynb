{
  "nbformat": 4,
  "nbformat_minor": 0,
  "metadata": {
    "colab": {
      "name": "Compaire.ipynb",
      "provenance": [],
      "include_colab_link": true
    },
    "kernelspec": {
      "name": "python3",
      "display_name": "Python 3"
    }
  },
  "cells": [
    {
      "cell_type": "markdown",
      "metadata": {
        "id": "view-in-github",
        "colab_type": "text"
      },
      "source": [
        "<a href=\"https://colab.research.google.com/github/BenYavor/Comparison_of_communication_Autoencoder_MI_GAN_WGAN/blob/master/Compaire.ipynb\" target=\"_parent\"><img src=\"https://colab.research.google.com/assets/colab-badge.svg\" alt=\"Open In Colab\"/></a>"
      ]
    },
    {
      "cell_type": "code",
      "metadata": {
        "id": "Y3Mvn1V30ejH",
        "colab_type": "code",
        "outputId": "2247e8f0-018d-4d26-8f69-c8c621aa0e6d",
        "colab": {
          "base_uri": "https://localhost:8080/",
          "height": 644
        }
      },
      "source": [
        "!pip install tensorflow==2.0.0\n",
        "import numpy as np\n",
        "%matplotlib inline\n",
        "import matplotlib.pyplot as plt   \n",
        "import warnings\n",
        "with warnings.catch_warnings():\n",
        "    warnings.filterwarnings(\"ignore\",category=FutureWarning)\n",
        "    import tensorflow as tf\n",
        "import os\n",
        "tf.__version__\n",
        "from tensorflow import keras\n",
        "import time\n",
        "from __future__ import absolute_import, division, print_function, unicode_literals\n",
        "import pandas as pd\n",
        "import sys\n",
        "assert sys.version_info >= (3, 5)\n",
        "%matplotlib inline\n",
        "import matplotlib as mpl\n",
        "mpl.rc('axes', labelsize=14)\n",
        "mpl.rc('xtick', labelsize=12)\n",
        "mpl.rc('ytick', labelsize=12)\n",
        "import tensorflow as tf\n",
        "from tensorflow import keras\n",
        "from sklearn.preprocessing import OneHotEncoder\n",
        "import pandas as pd\n",
        "from scipy import special\n",
        "#from Clustering_Equalgrps.equal_groups import EqualGroupsKMeans\n",
        "from tensorflow.keras import layers\n",
        "np.random.seed(42)\n",
        "tf.random.set_seed(42)"
      ],
      "execution_count": 1,
      "outputs": [
        {
          "output_type": "stream",
          "text": [
            "Requirement already satisfied: tensorflow==2.0.0 in /usr/local/lib/python3.6/dist-packages (2.0.0)\n",
            "Requirement already satisfied: keras-applications>=1.0.8 in /usr/local/lib/python3.6/dist-packages (from tensorflow==2.0.0) (1.0.8)\n",
            "Requirement already satisfied: google-pasta>=0.1.6 in /usr/local/lib/python3.6/dist-packages (from tensorflow==2.0.0) (0.1.8)\n",
            "Requirement already satisfied: absl-py>=0.7.0 in /usr/local/lib/python3.6/dist-packages (from tensorflow==2.0.0) (0.8.1)\n",
            "Requirement already satisfied: keras-preprocessing>=1.0.5 in /usr/local/lib/python3.6/dist-packages (from tensorflow==2.0.0) (1.1.0)\n",
            "Requirement already satisfied: wheel>=0.26 in /usr/local/lib/python3.6/dist-packages (from tensorflow==2.0.0) (0.33.6)\n",
            "Requirement already satisfied: tensorboard<2.1.0,>=2.0.0 in /usr/local/lib/python3.6/dist-packages (from tensorflow==2.0.0) (2.0.1)\n",
            "Requirement already satisfied: termcolor>=1.1.0 in /usr/local/lib/python3.6/dist-packages (from tensorflow==2.0.0) (1.1.0)\n",
            "Requirement already satisfied: wrapt>=1.11.1 in /usr/local/lib/python3.6/dist-packages (from tensorflow==2.0.0) (1.11.2)\n",
            "Requirement already satisfied: gast==0.2.2 in /usr/local/lib/python3.6/dist-packages (from tensorflow==2.0.0) (0.2.2)\n",
            "Requirement already satisfied: opt-einsum>=2.3.2 in /usr/local/lib/python3.6/dist-packages (from tensorflow==2.0.0) (3.1.0)\n",
            "Requirement already satisfied: protobuf>=3.6.1 in /usr/local/lib/python3.6/dist-packages (from tensorflow==2.0.0) (3.10.0)\n",
            "Requirement already satisfied: numpy<2.0,>=1.16.0 in /usr/local/lib/python3.6/dist-packages (from tensorflow==2.0.0) (1.17.4)\n",
            "Requirement already satisfied: tensorflow-estimator<2.1.0,>=2.0.0 in /usr/local/lib/python3.6/dist-packages (from tensorflow==2.0.0) (2.0.1)\n",
            "Requirement already satisfied: astor>=0.6.0 in /usr/local/lib/python3.6/dist-packages (from tensorflow==2.0.0) (0.8.0)\n",
            "Requirement already satisfied: grpcio>=1.8.6 in /usr/local/lib/python3.6/dist-packages (from tensorflow==2.0.0) (1.15.0)\n",
            "Requirement already satisfied: six>=1.10.0 in /usr/local/lib/python3.6/dist-packages (from tensorflow==2.0.0) (1.12.0)\n",
            "Requirement already satisfied: h5py in /usr/local/lib/python3.6/dist-packages (from keras-applications>=1.0.8->tensorflow==2.0.0) (2.8.0)\n",
            "Requirement already satisfied: google-auth<2,>=1.6.3 in /usr/local/lib/python3.6/dist-packages (from tensorboard<2.1.0,>=2.0.0->tensorflow==2.0.0) (1.7.1)\n",
            "Requirement already satisfied: google-auth-oauthlib<0.5,>=0.4.1 in /usr/local/lib/python3.6/dist-packages (from tensorboard<2.1.0,>=2.0.0->tensorflow==2.0.0) (0.4.1)\n",
            "Requirement already satisfied: werkzeug>=0.11.15 in /usr/local/lib/python3.6/dist-packages (from tensorboard<2.1.0,>=2.0.0->tensorflow==2.0.0) (0.16.0)\n",
            "Requirement already satisfied: setuptools>=41.0.0 in /usr/local/lib/python3.6/dist-packages (from tensorboard<2.1.0,>=2.0.0->tensorflow==2.0.0) (41.4.0)\n",
            "Requirement already satisfied: markdown>=2.6.8 in /usr/local/lib/python3.6/dist-packages (from tensorboard<2.1.0,>=2.0.0->tensorflow==2.0.0) (3.1.1)\n",
            "Requirement already satisfied: cachetools<3.2,>=2.0.0 in /usr/local/lib/python3.6/dist-packages (from google-auth<2,>=1.6.3->tensorboard<2.1.0,>=2.0.0->tensorflow==2.0.0) (3.1.1)\n",
            "Requirement already satisfied: pyasn1-modules>=0.2.1 in /usr/local/lib/python3.6/dist-packages (from google-auth<2,>=1.6.3->tensorboard<2.1.0,>=2.0.0->tensorflow==2.0.0) (0.2.7)\n",
            "Requirement already satisfied: rsa<4.1,>=3.1.4 in /usr/local/lib/python3.6/dist-packages (from google-auth<2,>=1.6.3->tensorboard<2.1.0,>=2.0.0->tensorflow==2.0.0) (4.0)\n",
            "Requirement already satisfied: requests-oauthlib>=0.7.0 in /usr/local/lib/python3.6/dist-packages (from google-auth-oauthlib<0.5,>=0.4.1->tensorboard<2.1.0,>=2.0.0->tensorflow==2.0.0) (1.3.0)\n",
            "Requirement already satisfied: pyasn1<0.5.0,>=0.4.6 in /usr/local/lib/python3.6/dist-packages (from pyasn1-modules>=0.2.1->google-auth<2,>=1.6.3->tensorboard<2.1.0,>=2.0.0->tensorflow==2.0.0) (0.4.7)\n",
            "Requirement already satisfied: oauthlib>=3.0.0 in /usr/local/lib/python3.6/dist-packages (from requests-oauthlib>=0.7.0->google-auth-oauthlib<0.5,>=0.4.1->tensorboard<2.1.0,>=2.0.0->tensorflow==2.0.0) (3.1.0)\n",
            "Requirement already satisfied: requests>=2.0.0 in /usr/local/lib/python3.6/dist-packages (from requests-oauthlib>=0.7.0->google-auth-oauthlib<0.5,>=0.4.1->tensorboard<2.1.0,>=2.0.0->tensorflow==2.0.0) (2.21.0)\n",
            "Requirement already satisfied: idna<2.9,>=2.5 in /usr/local/lib/python3.6/dist-packages (from requests>=2.0.0->requests-oauthlib>=0.7.0->google-auth-oauthlib<0.5,>=0.4.1->tensorboard<2.1.0,>=2.0.0->tensorflow==2.0.0) (2.8)\n",
            "Requirement already satisfied: chardet<3.1.0,>=3.0.2 in /usr/local/lib/python3.6/dist-packages (from requests>=2.0.0->requests-oauthlib>=0.7.0->google-auth-oauthlib<0.5,>=0.4.1->tensorboard<2.1.0,>=2.0.0->tensorflow==2.0.0) (3.0.4)\n",
            "Requirement already satisfied: urllib3<1.25,>=1.21.1 in /usr/local/lib/python3.6/dist-packages (from requests>=2.0.0->requests-oauthlib>=0.7.0->google-auth-oauthlib<0.5,>=0.4.1->tensorboard<2.1.0,>=2.0.0->tensorflow==2.0.0) (1.24.3)\n",
            "Requirement already satisfied: certifi>=2017.4.17 in /usr/local/lib/python3.6/dist-packages (from requests>=2.0.0->requests-oauthlib>=0.7.0->google-auth-oauthlib<0.5,>=0.4.1->tensorboard<2.1.0,>=2.0.0->tensorflow==2.0.0) (2019.9.11)\n"
          ],
          "name": "stdout"
        }
      ]
    },
    {
      "cell_type": "markdown",
      "metadata": {
        "id": "1wlZswcMF7Rt",
        "colab_type": "text"
      },
      "source": [
        "#### Vergleich\n",
        "Als erstes für feste $k$ und $n$, was sich ändert ist die Samplesize, Anzahl der Samples und SNR"
      ]
    },
    {
      "cell_type": "markdown",
      "metadata": {
        "id": "4qpY-gawAf-9",
        "colab_type": "text"
      },
      "source": [
        "###Systemparameter\n",
        "ACHTUNG: CHANNELANZAHL WURDE UNTERSCHIEDLICH VERWENDET \\\\\n",
        "$k$ - die Anzhal der bits \\\\\n",
        "$M$ - Anzahl der unterschiedlichen Nachrichten \\\\\n",
        "$n$ - channel uses\\\\\n",
        "$N$ - Länge des Rauschvektors"
      ]
    },
    {
      "cell_type": "code",
      "metadata": {
        "colab_type": "code",
        "id": "czeNNfpY1qc2",
        "outputId": "5272788c-55a8-42bc-9f3f-eed3bf868d9c",
        "colab": {
          "base_uri": "https://localhost:8080/",
          "height": 35
        }
      },
      "source": [
        "k = 4      # Number of information bits per message, i.e., M=2**k\n",
        "M = 2**k\n",
        "n = 2    # Number of real channel uses per message\n",
        "#k = int(np.log2(M))\n",
        "#n = 2\n",
        "print(M)\n",
        "\n",
        "SNR = 7\n"
      ],
      "execution_count": 2,
      "outputs": [
        {
          "output_type": "stream",
          "text": [
            "16\n"
          ],
          "name": "stdout"
        }
      ]
    },
    {
      "cell_type": "markdown",
      "metadata": {
        "id": "BA4TqJBOXXIg",
        "colab_type": "text"
      },
      "source": [
        "## Training Parameter"
      ]
    },
    {
      "cell_type": "code",
      "metadata": {
        "id": "aJZ_cnp9V-Q6",
        "colab_type": "code",
        "colab": {}
      },
      "source": [
        "gen_learning_rate=0.0001 \n",
        "disc_learning_rate = 0.0005                  # 0.0001  "
      ],
      "execution_count": 0,
      "outputs": []
    },
    {
      "cell_type": "markdown",
      "metadata": {
        "id": "tb-DiBwSN255",
        "colab_type": "text"
      },
      "source": [
        "### Different Layers"
      ]
    },
    {
      "cell_type": "code",
      "metadata": {
        "id": "hFMMLrY0LthL",
        "colab_type": "code",
        "colab": {}
      },
      "source": [
        "randN_initial = keras.initializers.RandomNormal(mean=0.0, stddev=0.05, seed=None)\n",
        "\n",
        "EncIn = tf.keras.layers.Input(shape=(M,))#, dtype= tf.int32)\n",
        "e1 = tf.keras.layers.Dense(2*n, activation=None)\n",
        "e2 = tf.keras.layers.Lambda(lambda x:tf.reshape(x, shape=[-1,int(n/2),2]))\n",
        "EncOut = tf.keras.layers.Lambda(lambda x: x/tf.sqrt(2*tf.reduce_mean(tf.square(x))))\n",
        "GenIn = tf.keras.layers.Lambda(lambda x:tf.reshape(x,(tf.shape(x)[0],-1)))\n",
        "# = tf.keras.layers.Lambda(generator)\n",
        "DecIn = tf.keras.layers.Lambda(lambda x:tf.reshape(x, shape=[-1,int(n/2),2]))\n",
        "d1 = tf.keras.layers.Lambda(lambda x:tf.reshape(x, shape=[-1,n]))\n",
        "d2 = tf.keras.layers.Dense(M, activation='relu')\n",
        "DecOut = tf.keras.layers.Dense(M, activation='softmax')\n",
        "\n",
        "\n",
        "#noise_std = EbNo_to_noise(TRAINING_SNR)\n",
        "# custom functions / layers without weights\n",
        "norm_layer = keras.layers.Lambda(lambda x: tf.divide(x,tf.sqrt(2*tf.reduce_mean(tf.square(x)))))\n",
        "shape_layer = keras.layers.Lambda(lambda x: tf.reshape(x, shape=[-1,2,n]))\n",
        "shape_layer2 = keras.layers.Lambda(lambda x: tf.reshape(x, shape=[-1,n]))\n",
        "channel_layer = keras.layers.Lambda(lambda x: x + tf.random.normal(tf.shape(x), mean=0.0, stddev=noise_std))"
      ],
      "execution_count": 0,
      "outputs": []
    },
    {
      "cell_type": "markdown",
      "metadata": {
        "id": "7J96hJhKO9VJ",
        "colab_type": "text"
      },
      "source": [
        "### Help functions"
      ]
    },
    {
      "cell_type": "code",
      "metadata": {
        "id": "uV7pjryDv4M4",
        "colab_type": "code",
        "outputId": "aedbc9de-ffd3-46dd-e315-6788fd02317f",
        "colab": {
          "base_uri": "https://localhost:8080/",
          "height": 53
        }
      },
      "source": [
        "def EbNo2Sigma(ebnodb):\n",
        "    '''Convert Eb/No in dB to noise standard deviation'''\n",
        "    ebno = 10**(ebnodb/10)\n",
        "    return 1/np.sqrt(2*(2*k/n)*ebno)\n",
        "\n",
        "def EbNo_to_noise(ebnodb):\n",
        "    '''Transform EbNo[dB]/snr to noise power'''\n",
        "    ebno = 10**(ebnodb/10)\n",
        "    noise_std = 1/np.sqrt(2*(2*k/n)*ebno) \n",
        "    return noise_std\n",
        "\n",
        "\n",
        "def real_channel(x,noise_std):\n",
        "    # Black-box Channel\n",
        "    #AWGN\n",
        "    return x + tf.random.normal(tf.shape(x), mean=0.0, stddev=noise_std)\n",
        "\n",
        "    #Rayleigh\n",
        "    #return x + tf.sqrt(tf.square(tf.random_normal(tf.shape(x), mean=0.0, stddev=noise_std)) + tf.square(tf.random_normal(tf.shape(x), mean=0.0, stddev=noise_std)))\n",
        "    \n",
        "    #Uniform U(-3;3)    \n",
        "    #return x + tf.random_uniform(tf.shape(x), minval=-2, maxval=2)\n",
        "\n",
        "def B_Ber(input_msg, msg):\n",
        "    '''Calculate the Batch Bit Error Rate'''\n",
        "    pred_error = tf.not_equal(tf.argmax(msg, 1), tf.argmax(input_msg, 1))\n",
        "    bber = tf.reduce_mean(tf.cast(pred_error, tf.float32))\n",
        "    return bber\n",
        "\n",
        "def random_sample(batch_size=32):\n",
        "    msg = np.random.randint(M, size=batch_size)\n",
        "    return msg\n",
        "\n",
        "\n",
        "\n",
        "\n",
        "def B_Ber_m(input_msg, msg):\n",
        "    '''Calculate the Batch Bit Error Rate'''\n",
        "    pred_error = tf.not_equal(input_msg, tf.argmax(msg, 1))      \n",
        "    bber = tf.reduce_mean(tf.cast(pred_error, tf.float32))\n",
        "    return bber\n",
        "\n",
        "def SNR_to_noise(snrdb):\n",
        "    '''Transform EbNo[dB]/snr to noise power'''\n",
        "    snr = 10**(snrdb/10)\n",
        "    noise_std = 1/np.sqrt(2*snr)\n",
        "    return noise_std\n",
        "\n",
        "noise_std = EbNo2Sigma(SNR)\n",
        "\n",
        "print(EbNo2Sigma(SNR))\n",
        "print(EbNo_to_noise(SNR))"
      ],
      "execution_count": 5,
      "outputs": [
        {
          "output_type": "stream",
          "text": [
            "0.15792649852735607\n",
            "0.15792649852735607\n"
          ],
          "name": "stdout"
        }
      ]
    },
    {
      "cell_type": "code",
      "metadata": {
        "id": "OBGMgdDEh7uX",
        "colab_type": "code",
        "colab": {}
      },
      "source": [
        "def test_encoding(M=16, n=1):\n",
        "    inp = np.arange(0,M)\n",
        "    coding = gan_encoder.predict(inp)\n",
        "    fig = plt.figure(figsize=(4,4))\n",
        "    plt.plot(coding[:,0], coding[:, 1], \"b.\")\n",
        "    plt.xlabel(\"$x_1$\", fontsize=18)\n",
        "    plt.ylabel(\"$x_2$\", fontsize=18, rotation=0)\n",
        "    plt.grid(True)\n",
        "    plt.gca().set_ylim(-2, 2)\n",
        "    plt.gca().set_xlim(-2, 2)\n",
        "    plt.show()\n",
        "\n",
        "def test_w_encoding(M=16, n=1):\n",
        "    inp = np.arange(0,M)\n",
        "    coding = w_gan_encoder.predict(inp)\n",
        "    fig = plt.figure(figsize=(4,4))\n",
        "    plt.plot(coding[:,0], coding[:, 1], \"b.\")\n",
        "    plt.xlabel(\"$x_1$\", fontsize=18)\n",
        "    plt.ylabel(\"$x_2$\", fontsize=18, rotation=0)\n",
        "    plt.grid(True)\n",
        "    plt.gca().set_ylim(-2, 2)\n",
        "    plt.gca().set_xlim(-2, 2)\n",
        "    plt.show()\n",
        "\n",
        "def test_noisy_codeword(data):\n",
        "    rcvd_word = data[1:2000]\n",
        "    fig = plt.figure(figsize=(4,4))\n",
        "    plt.plot(rcvd_word[:,0], rcvd_word[:, 1], \"b.\")\n",
        "    plt.xlabel(\"$x_1$\", fontsize=18)\n",
        "    plt.ylabel(\"$x_2$\", fontsize=18, rotation=0)\n",
        "    plt.grid(True)\n",
        "    plt.gca().set_ylim(-2, 2)\n",
        "    plt.gca().set_xlim(-2, 2)\n",
        "    plt.show()"
      ],
      "execution_count": 0,
      "outputs": []
    },
    {
      "cell_type": "markdown",
      "metadata": {
        "id": "AOoYuK_jR9rH",
        "colab_type": "text"
      },
      "source": [
        "# Models"
      ]
    },
    {
      "cell_type": "markdown",
      "metadata": {
        "id": "PQxhmgOa0_7c",
        "colab_type": "text"
      },
      "source": [
        "#### Generator Model"
      ]
    },
    {
      "cell_type": "code",
      "metadata": {
        "id": "LXbS5lM9Tb9B",
        "colab_type": "code",
        "colab": {}
      },
      "source": [
        "def get_generator(n):\n",
        "  input1 = tf.keras.layers.Input(shape=(n,))\n",
        "  x1 = tf.keras.layers.Dense(n)(input1)\n",
        "  input2 =tf.random.normal(shape=tf.shape(input1))\n",
        "  #input2 =tf.random.normal([tf.shape(input1)[0],n])\n",
        "  x2 = tf.keras.layers.Dense(n)(input2)\n",
        "  subtracted = tf.keras.layers.Concatenate(1)([x1, x2])\n",
        "  h1 = tf.keras.layers.Dense(32,use_bias=True,  activation='relu')(subtracted)\n",
        "  h2 = tf.keras.layers.Dense(32,use_bias=True, activation='relu')(h1)\n",
        "  out = tf.keras.layers.Dense(n, use_bias= True, activation='linear')(h2)\n",
        "  generator = tf.keras.models.Model(inputs=[input1], outputs=out)\n",
        "  return generator\n",
        "\n",
        "def get_w_generator(n):\n",
        "  inputx1 = tf.keras.layers.Input(shape=(n,))\n",
        "  x1 = tf.keras.layers.Dense(n)(inputx1)\n",
        "  inputx2 =tf.random.normal(shape=tf.shape(inputx1))\n",
        "  x2 = tf.keras.layers.Dense(n)(inputx2)\n",
        "  subtracted = tf.keras.layers.Concatenate(1)([x1, x2])\n",
        "  h1 = tf.keras.layers.Dense(32,use_bias=True,  activation='relu')(subtracted)\n",
        "  h2 = tf.keras.layers.Dense(32,use_bias=True, activation='relu')(h1)\n",
        "  out = tf.keras.layers.Dense(n, use_bias= True, activation='linear')(h2)\n",
        "  generator = tf.keras.models.Model(inputs=[inputx1], outputs=out)\n",
        "  return generator\n",
        "#keras.utils.plot_model(generator, 'Structure_of_MI_estimation.png', show_shapes=True)\n"
      ],
      "execution_count": 0,
      "outputs": []
    },
    {
      "cell_type": "markdown",
      "metadata": {
        "id": "Vt2rTP7hSFt4",
        "colab_type": "text"
      },
      "source": [
        "#### Discriminator Model "
      ]
    },
    {
      "cell_type": "code",
      "metadata": {
        "id": "97h2eMLeXS68",
        "colab_type": "code",
        "colab": {}
      },
      "source": [
        "def get_discriminator(n):\n",
        "  model = tf.keras.Sequential()\n",
        "  model.add(tf.keras.layers.Dense(32,use_bias=True, kernel_initializer=randN_initial,activation='relu',input_shape=((2*n,))))\n",
        "  #model.add(tf.keras.layers.Dense(32,use_bias=True, kernel_initializer=randN_initial, activation='relu'))\n",
        "  model.add(tf.keras.layers.Dense(1,use_bias=False, activation='sigmoid'))\n",
        "  return model\n"
      ],
      "execution_count": 0,
      "outputs": []
    },
    {
      "cell_type": "code",
      "metadata": {
        "id": "6rIdAYRhHgGk",
        "colab_type": "code",
        "colab": {}
      },
      "source": [
        "w_generator = get_w_generator(n)\n",
        "w_discriminator = get_discriminator(n)\n",
        "generator = get_generator(n)\n",
        "discriminator = get_discriminator(n)"
      ],
      "execution_count": 0,
      "outputs": []
    },
    {
      "cell_type": "markdown",
      "metadata": {
        "id": "lcIzLZj5Seh9",
        "colab_type": "text"
      },
      "source": [
        "#### Encoder GAN Model"
      ]
    },
    {
      "cell_type": "code",
      "metadata": {
        "id": "sNHtzAC4SPBq",
        "colab_type": "code",
        "colab": {}
      },
      "source": [
        "def get_gan_encoder(M):\n",
        "  model = keras.models.Sequential([\n",
        "            keras.layers.Embedding(M, M, embeddings_initializer='glorot_normal'),\n",
        "            keras.layers.Dense(M, activation=\"elu\"),\n",
        "            keras.layers.Dense(n, activation=None),\n",
        "            e2,\n",
        "            EncOut,\n",
        "            GenIn])\n",
        "  return model\n"
      ],
      "execution_count": 0,
      "outputs": []
    },
    {
      "cell_type": "markdown",
      "metadata": {
        "id": "G5iCDE4dSL35",
        "colab_type": "text"
      },
      "source": [
        "#### decoder GAN Model"
      ]
    },
    {
      "cell_type": "code",
      "metadata": {
        "id": "C5KjEhDvSWQR",
        "colab_type": "code",
        "colab": {}
      },
      "source": [
        "def get_gan_decoder(M):\n",
        "   model= keras.models.Sequential([\n",
        "                #DecIn,\n",
        "                #d1,\n",
        "                keras.layers.Dense(M, activation=\"elu\"),\n",
        "                keras.layers.Dense(M, activation=\"softmax\")\n",
        "                ])\n",
        "   return model"
      ],
      "execution_count": 0,
      "outputs": []
    },
    {
      "cell_type": "markdown",
      "metadata": {
        "id": "s-t76sYBtlP1",
        "colab_type": "text"
      },
      "source": [
        "### MI estimator Model"
      ]
    },
    {
      "cell_type": "code",
      "metadata": {
        "id": "jL9PYSKjIoOI",
        "colab_type": "code",
        "colab": {}
      },
      "source": [
        "randN_05 = keras.initializers.RandomNormal(mean=0.0, stddev=0.05, seed=None)\n",
        "bias_init = keras.initializers.Constant(0.01)\n",
        "\n",
        "input_A = keras.layers.Input(shape=[2*n])\n",
        "input_B = keras.layers.Input(shape=[2*n])\n",
        "    \n",
        "transform = keras.models.Sequential([\n",
        "layers.Dense(256, bias_initializer=bias_init, kernel_initializer=randN_05, activation=\"relu\"),\n",
        "#keras.layers.Dropout(rate=0.3), # To regularize higher dimensionality\n",
        "layers.Dense(256, bias_initializer=bias_init, kernel_initializer=randN_05, activation=\"relu\"),\n",
        "#keras.layers.Dropout(rate=0.3), # To regularize higher dimensionality\n",
        "layers.Dense(1, bias_initializer=bias_init, kernel_initializer=randN_05, activation=None)])\n",
        "\n",
        "output_A = transform(input_A)\n",
        "output_B = transform(input_B)\n",
        "output_C = tf.reduce_mean(output_A) - tf.math.log(tf.reduce_mean(tf.exp(output_B))) # MINE\n",
        "MI_mod = keras.models.Model(inputs=[input_A, input_B], outputs=output_C)\n",
        "\n",
        "#keras.utils.plot_model(MI_mod, 'Structure_of_MI_estimation.png', show_shapes=True)\n",
        "\n"
      ],
      "execution_count": 0,
      "outputs": []
    },
    {
      "cell_type": "code",
      "metadata": {
        "id": "cf_rmCXIt6af",
        "colab_type": "code",
        "colab": {}
      },
      "source": [
        "mi_encoder = keras.models.Sequential([\n",
        "            keras.layers.Embedding(M, M, embeddings_initializer='glorot_normal'),\n",
        "            keras.layers.Dense(M, activation=\"elu\"),\n",
        "            keras.layers.Dense(n, activation=None),\n",
        "            shape_layer,\n",
        "            norm_layer])\n",
        "\n",
        "mi_channel = keras.models.Sequential([channel_layer])\n",
        "\n",
        "mi_decoder = keras.models.Sequential([\n",
        "                keras.layers.InputLayer(input_shape=[2,int(n/2)]),\n",
        "                shape_layer2,\n",
        "                keras.layers.Dense(M, activation=\"elu\"),\n",
        "                keras.layers.Dense(M, activation=\"softmax\")\n",
        "                ])\n",
        "\n",
        "autoencoder = keras.models.Sequential([mi_encoder, mi_channel, mi_decoder])"
      ],
      "execution_count": 0,
      "outputs": []
    },
    {
      "cell_type": "code",
      "metadata": {
        "id": "n15AvPFO05gd",
        "colab_type": "code",
        "colab": {}
      },
      "source": [
        "def gan_optimizers(gen_learning_rate  ,disc_learning_rate):\n",
        "  generator_optimizer = tf.keras.optimizers.RMSprop(gen_learning_rate)      #RMSprop   in oreder to test where the error comes from\n",
        "  discriminator_optimizer = tf.keras.optimizers.RMSprop(disc_learning_rate) \n",
        "  return generator_optimizer, discriminator_optimizer"
      ],
      "execution_count": 0,
      "outputs": []
    },
    {
      "cell_type": "code",
      "metadata": {
        "id": "U4cPlvbWIoO5",
        "colab_type": "code",
        "colab": {}
      },
      "source": [
        "def plot_loss(step, epoch, mean_loss, X_batch, y_pred, plot_encoding):\n",
        "    template = 'Iteration: {}, Epoch: {}, Loss: {:.5f}, Batch_BER: {:.5f}'\n",
        "    if step % 10 == 0:\n",
        "        print(template.format(step, epoch, mean_loss.result(), B_Ber_m(X_batch, y_pred)))\n",
        "        if plot_encoding:\n",
        "            test_encoding()"
      ],
      "execution_count": 0,
      "outputs": []
    },
    {
      "cell_type": "code",
      "metadata": {
        "id": "r-0gFRfXIoPB",
        "colab_type": "code",
        "colab": {}
      },
      "source": [
        "def plot_batch_loss(epoch, mean_loss, X_batch, y_pred):\n",
        "        template_outer_loop = 'Interim result for Epoch: {}, Loss: {:.5f}, Batch_BER: {:.5f}'\n",
        "        print(template_outer_loop.format(epoch, mean_loss.result(), B_Ber_m(X_batch, y_pred)))"
      ],
      "execution_count": 0,
      "outputs": []
    },
    {
      "cell_type": "code",
      "metadata": {
        "id": "FcXv9vthIoPG",
        "colab_type": "code",
        "colab": {}
      },
      "source": [
        "def split_train_data(x_sample, y_sample):\n",
        "    x_shaped = tf.reshape(x_sample, shape=[-1,n])\n",
        "    y_shaped = tf.reshape(y_sample, shape=[-1,n])\n",
        "    x_sample1, x_sample2 = tf.split(x_shaped, num_or_size_splits=2)\n",
        "    y_sample1, y_sample2 = tf.split(y_shaped, num_or_size_splits=2)\n",
        "    joint_sample = tf.concat([x_sample1, y_sample1], axis=1)\n",
        "    marg_sample = tf.concat([x_sample2, y_sample1], axis=1)\n",
        "    return joint_sample, marg_sample"
      ],
      "execution_count": 0,
      "outputs": []
    },
    {
      "cell_type": "code",
      "metadata": {
        "id": "B6NAzlIiIoPM",
        "colab_type": "code",
        "colab": {}
      },
      "source": [
        "\n",
        "def train_mi(n_epochs=5, n_steps=20, batch_size=200, learning_rate=0.005):\n",
        "    optimizer_mi = keras.optimizers.Nadam(lr=learning_rate)\n",
        "    for epoch in range(1, n_epochs + 1): \n",
        "        print(\"Training in Epoch {}/{}\".format(epoch, n_epochs)) \n",
        "        for step in range(1, n_steps + 1):\n",
        "            X_batch = random_sample(batch_size*2)\n",
        "            with tf.GradientTape() as tape:\n",
        "                x_enc = mi_encoder(X_batch, training=True)\n",
        "                y_recv = mi_channel(x_enc)\n",
        "                joint_marg_s = split_train_data(x_enc, y_recv)\n",
        "                loss = -MI_mod(joint_marg_s)\n",
        "                gradients = tape.gradient(loss, MI_mod.trainable_variables) \n",
        "                optimizer_mi.apply_gradients(zip(gradients, MI_mod.trainable_variables))\n",
        "            mi_avg = -mean_loss(loss)\n",
        "        print('Epoch: {}, Mi is {}'.format(epoch, mi_avg))\n",
        "        mean_loss.reset_states()"
      ],
      "execution_count": 0,
      "outputs": []
    },
    {
      "cell_type": "code",
      "metadata": {
        "id": "P-4O8w_HIoPS",
        "colab_type": "code",
        "colab": {}
      },
      "source": [
        "\n",
        "def train_decoder(n_epochs=5, n_steps=20, batch_size=200, learning_rate=0.005, plot_encoding=True):\n",
        "    optimizer_ae = keras.optimizers.Nadam(lr=learning_rate)\n",
        "    for epoch in range(1, n_epochs + 1): \n",
        "        print(\"Training Bob in Epoch {}/{}\".format(epoch, n_epochs)) \n",
        "        for step in range(1, n_steps + 1):\n",
        "            X_batch  = random_sample(batch_size)\n",
        "            with tf.GradientTape() as tape:\n",
        "                y_pred = autoencoder(X_batch, training=True)\n",
        "                loss = tf.reduce_mean(loss_fn(X_batch, y_pred))\n",
        "                gradients = tape.gradient(loss, mi_decoder.trainable_variables) \n",
        "                optimizer_ae.apply_gradients(zip(gradients, mi_decoder.trainable_variables)) \n",
        "            mean_loss(loss)\n",
        "            plot_loss(step, epoch, mean_loss, X_batch, y_pred, plot_encoding)\n",
        "        plot_batch_loss(epoch, mean_loss, X_batch, y_pred) \n",
        "        mean_loss.reset_states()"
      ],
      "execution_count": 0,
      "outputs": []
    },
    {
      "cell_type": "code",
      "metadata": {
        "id": "MDCIupPhIoPY",
        "colab_type": "code",
        "colab": {}
      },
      "source": [
        "\n",
        "def train_encoder(n_epochs=5, n_steps=20, batch_size=200, learning_rate=0.05):\n",
        "    optimizer_mi = keras.optimizers.Nadam(lr=0.005)\n",
        "    optimizer_ae = keras.optimizers.Nadam(lr=learning_rate)\n",
        "    for epoch in range(1, n_epochs + 1): \n",
        "        print(\"Training Bob in Epoch {}/{}\".format(epoch, n_epochs)) \n",
        "        for step in range(1, n_steps + 1):\n",
        "            X_batch  = random_sample(batch_size)\n",
        "            with tf.GradientTape() as tape:\n",
        "                x_enc = mi_encoder(X_batch, training=True)\n",
        "                y_recv = mi_channel(x_enc)\n",
        "                joint_marg_s = split_train_data(x_enc, y_recv)\n",
        "                loss = -MI_mod(joint_marg_s)\n",
        "                gradients = tape.gradient(loss, mi_encoder.trainable_variables) \n",
        "                optimizer_ae.apply_gradients(zip(gradients, mi_encoder.trainable_variables))\n",
        "            mi_avg = -mean_loss(loss)\n",
        "        with tf.GradientTape() as tape:\n",
        "            X_batch  = random_sample(batch_size) \n",
        "            x_enc = mi_encoder(X_batch, training=True)\n",
        "            y_recv = mi_channel(x_enc)\n",
        "            joint_marg_s = split_train_data(x_enc, y_recv)\n",
        "            loss = -MI_mod(joint_marg_s)\n",
        "            gradients = tape.gradient(loss, MI_mod.trainable_variables) \n",
        "            optimizer_mi.apply_gradients(zip(gradients, MI_mod.trainable_variables))\n",
        "        print('Epoch: {}, Mi is {}'.format(epoch, mi_avg))\n",
        "       # test_encoding(M, 1)"
      ],
      "execution_count": 0,
      "outputs": []
    },
    {
      "cell_type": "code",
      "metadata": {
        "id": "ooDukkHvmduJ",
        "colab_type": "code",
        "outputId": "d509dc8f-3d58-4ca2-afcc-3248fac9329d",
        "colab": {
          "base_uri": "https://localhost:8080/",
          "height": 53
        }
      },
      "source": [
        "%%time\n",
        "def train_gan(epochs,n_steps, batch_size, SNR_level):\n",
        "  noise_std = EbNo2Sigma(SNR_level)\n",
        "  start = time.time()\n",
        "  x = tf.random.normal((batch_size,n),dtype=tf.dtypes.float32) \n",
        "  x = x/tf.sqrt(2*tf.reduce_mean(tf.square(x)))\n",
        "  counter = 0\n",
        "  epoch = 0\n",
        "  for epoch in range(epochs):\n",
        "    counter += 1\n",
        "    train_step(noise_std, n_steps,batch_size)\n",
        "    if counter%100==0:\n",
        "      tf.print(\"counter %d:\" % (counter))\n",
        "      fake_c = generator(x)\n",
        "      tf.print(fake_c[0])\n",
        "    #print ('Time for epoch {} is {} sec,'.format(epoch + 1, time.time()-start))\n",
        "      tf.print ('Time for epoch {},'.format(epoch + 1))\n",
        "      \n",
        "  tf.saved_model.save(generator,'/tmp/saved_model/')\n",
        "  tf.print ('Time for the training is {} sec,'.format( time.time()-start))\n",
        "    "
      ],
      "execution_count": 21,
      "outputs": [
        {
          "output_type": "stream",
          "text": [
            "CPU times: user 3 µs, sys: 0 ns, total: 3 µs\n",
            "Wall time: 7.15 µs\n"
          ],
          "name": "stdout"
        }
      ]
    },
    {
      "cell_type": "code",
      "metadata": {
        "colab_type": "code",
        "id": "WE_JS7kgA1W-",
        "colab": {}
      },
      "source": [
        "@tf.function\n",
        "def train_step(noise_std,n_steps,batch_size):\n",
        "  x = tf.random.normal((batch_size,n),dtype=tf.dtypes.float32) \n",
        "  x = x/tf.sqrt(2*tf.reduce_mean(tf.square(x)))\n",
        "  for i in range(n_steps):\n",
        "    with tf.GradientTape() as gen_tape, tf.GradientTape() as disc_tape:\n",
        "      real_training_data = tf.concat(values=[real_channel(x,noise_std), x], axis=1)\n",
        "      fake_training_data = tf.concat(values=[generator(x),x], axis=1)\n",
        "      real_output = discriminator(real_training_data)\n",
        "      fake_output = discriminator(fake_training_data)\n",
        "      \n",
        "      \n",
        "      disc_loss = -tf.reduce_mean(tf.math.log(real_output) + tf.math.log(1. - fake_output))\n",
        "      gen_loss =-tf.reduce_mean(tf.math.log(fake_output))\n",
        "      \n",
        "      #tf.print(disc_loss,gen_loss)\n",
        "      \n",
        "      if tf.math.is_nan(disc_loss) == False:\n",
        "        gradients_of_discriminator = disc_tape.gradient(disc_loss, discriminator.trainable_variables)\n",
        "        discriminator_optimizer.apply_gradients(zip(gradients_of_discriminator, discriminator.trainable_variables))\n",
        "    \n",
        "      if i == 4:  \n",
        "        gradients_of_generator = gen_tape.gradient(gen_loss, generator.trainable_variables)\n",
        "        generator_optimizer.apply_gradients(zip(gradients_of_generator, generator.trainable_variables))\n",
        "\n"
      ],
      "execution_count": 0,
      "outputs": []
    },
    {
      "cell_type": "code",
      "metadata": {
        "id": "y82FQj3Jmvxx",
        "colab_type": "code",
        "colab": {}
      },
      "source": [
        "def creating_and_train_gan(epochs,n_steps, batch_size, SNR_level , n ):  #optional Leraning Rates\n",
        "  train_gan(epochs, n_steps, batch_size, SNR_level)\n",
        "  #4 after GAN training\n",
        "  generator.trainable = False\n",
        "  tf.print(generator.trainable)"
      ],
      "execution_count": 0,
      "outputs": []
    },
    {
      "cell_type": "code",
      "metadata": {
        "id": "dLTtFoV0IoPj",
        "colab_type": "code",
        "colab": {}
      },
      "source": [
        "def mi_Test_AE(data):\n",
        "    '''Calculate Bit Error for varying SNRs'''\n",
        "    snr_range = np.linspace(0, 15, 31)\n",
        "    bber_vec = [None] * len(snr_range)\n",
        "        \n",
        "    for db in range(len(snr_range)):           \n",
        "        noise_std = EbNo_to_noise(snr_range[db])\n",
        "        code_word = mi_encoder(data)\n",
        "        rcvd_word = code_word + tf.random.normal(tf.shape(code_word), mean=0.0, stddev=noise_std)\n",
        "        dcoded_msg = mi_decoder(rcvd_word)\n",
        "        bber_vec[db] = B_Ber_m(data, dcoded_msg)\n",
        "        if (db % 6 == 0) & (db > 0):\n",
        "            print(f'Progress: {db} of {30} parts')\n",
        "\n",
        "    return (snr_range, bber_vec)\n",
        "\n",
        "\n",
        "def gan_Test_AE(data):\n",
        "    '''Calculate Bit Error for varying SNRs'''\n",
        "    snr_range = np.linspace(0, 15, 31)\n",
        "    bber_vec = [None] * len(snr_range)\n",
        "        \n",
        "    for db in range(len(snr_range)):           \n",
        "        noise_std = EbNo_to_noise(snr_range[db])\n",
        "        code_word = gan_encoder(data)\n",
        "        rcvd_word = code_word + tf.random.normal(tf.shape(code_word), mean=0.0, stddev=noise_std)\n",
        "        dcoded_msg = gan_decoder(rcvd_word)\n",
        "        bber_vec[db] = B_Ber_m(data, dcoded_msg)\n",
        "        if (db % 6 == 0) & (db > 0):\n",
        "            print(f'Progress: {db} of {30} parts')\n",
        "\n",
        "    return (snr_range, bber_vec)\n",
        "\n",
        "def w_gan_Test_AE(data):\n",
        "    '''Calculate Bit Error for varying SNRs'''\n",
        "    snr_range = np.linspace(0, 15, 31)\n",
        "    bber_vec = [None] * len(snr_range)\n",
        "        \n",
        "    for db in range(len(snr_range)):           \n",
        "        noise_std = EbNo_to_noise(snr_range[db])\n",
        "        code_word = w_gan_encoder(data)\n",
        "        rcvd_word = code_word + tf.random.normal(tf.shape(code_word), mean=0.0, stddev=noise_std)\n",
        "        dcoded_msg = w_gan_decoder(rcvd_word)\n",
        "        bber_vec[db] = B_Ber_m(data, dcoded_msg)\n",
        "        if (db % 6 == 0) & (db > 0):\n",
        "            print(f'Progress: {db} of {30} parts')\n",
        "\n",
        "    return (snr_range, bber_vec)\n"
      ],
      "execution_count": 0,
      "outputs": []
    },
    {
      "cell_type": "markdown",
      "metadata": {
        "id": "3m0fQ6OXgPf1",
        "colab_type": "text"
      },
      "source": [
        "# GAN Training"
      ]
    },
    {
      "cell_type": "code",
      "metadata": {
        "id": "nNFwwZrcgOkn",
        "colab_type": "code",
        "outputId": "54e0eb14-ef0e-4d00-c342-dde36e3c7b51",
        "colab": {
          "base_uri": "https://localhost:8080/",
          "height": 1000
        }
      },
      "source": [
        "%%time\n",
        "\n",
        "generator_optimizer, discriminator_optimizer = gan_optimizers(gen_learning_rate=gen_learning_rate, disc_learning_rate = disc_learning_rate)\n",
        "start = time.time()\n",
        "creating_and_train_gan(epochs= 5000,n_steps=5, batch_size =100, SNR_level = 7, n = n)\n",
        "time_to_train_gan = time.time()-start\n",
        "tf.print ('Time for the training is {} sec,'.format( time.time()-start))"
      ],
      "execution_count": 25,
      "outputs": [
        {
          "output_type": "stream",
          "text": [
            "counter 100:\n",
            "[-0.0317160524 0.130993053]\n",
            "Time for epoch 100,\n",
            "counter 200:\n",
            "[0.0115681309 0.349815577]\n",
            "Time for epoch 200,\n",
            "counter 300:\n",
            "[-0.0318347849 0.183775589]\n",
            "Time for epoch 300,\n",
            "counter 400:\n",
            "[-0.00576118752 0.288710415]\n",
            "Time for epoch 400,\n",
            "counter 500:\n",
            "[-0.840965748 0.669303536]\n",
            "Time for epoch 500,\n",
            "counter 600:\n",
            "[0.251199901 0.595262408]\n",
            "Time for epoch 600,\n",
            "counter 700:\n",
            "[0.254876494 0.774338365]\n",
            "Time for epoch 700,\n",
            "counter 800:\n",
            "[0.489715427 0.921243]\n",
            "Time for epoch 800,\n",
            "counter 900:\n",
            "[0.617341816 0.774211764]\n",
            "Time for epoch 900,\n",
            "counter 1000:\n",
            "[0.750859 0.828274906]\n",
            "Time for epoch 1000,\n",
            "counter 1100:\n",
            "[0.422623187 0.689234793]\n",
            "Time for epoch 1100,\n",
            "counter 1200:\n",
            "[0.619195282 0.712426543]\n",
            "Time for epoch 1200,\n",
            "counter 1300:\n",
            "[0.598281085 0.614370286]\n",
            "Time for epoch 1300,\n",
            "counter 1400:\n",
            "[0.47829771 0.739305913]\n",
            "Time for epoch 1400,\n",
            "counter 1500:\n",
            "[0.522771895 0.735731244]\n",
            "Time for epoch 1500,\n",
            "counter 1600:\n",
            "[0.827664196 0.828983486]\n",
            "Time for epoch 1600,\n",
            "counter 1700:\n",
            "[0.283022732 0.637997568]\n",
            "Time for epoch 1700,\n",
            "counter 1800:\n",
            "[0.598209 0.713667393]\n",
            "Time for epoch 1800,\n",
            "counter 1900:\n",
            "[0.567686915 0.704547167]\n",
            "Time for epoch 1900,\n",
            "counter 2000:\n",
            "[0.582055509 0.68277]\n",
            "Time for epoch 2000,\n",
            "counter 2100:\n",
            "[0.483814597 0.72983706]\n",
            "Time for epoch 2100,\n",
            "counter 2200:\n",
            "[0.58586 0.650793552]\n",
            "Time for epoch 2200,\n",
            "counter 2300:\n",
            "[0.665031 0.752131462]\n",
            "Time for epoch 2300,\n",
            "counter 2400:\n",
            "[0.355764121 1.02411962]\n",
            "Time for epoch 2400,\n",
            "counter 2500:\n",
            "[0.538052738 0.878064811]\n",
            "Time for epoch 2500,\n",
            "counter 2600:\n",
            "[0.552982807 0.932423174]\n",
            "Time for epoch 2600,\n",
            "counter 2700:\n",
            "[0.550332129 0.68448478]\n",
            "Time for epoch 2700,\n",
            "counter 2800:\n",
            "[0.565040767 0.484878957]\n",
            "Time for epoch 2800,\n",
            "counter 2900:\n",
            "[0.775730312 0.727026343]\n",
            "Time for epoch 2900,\n",
            "counter 3000:\n",
            "[0.141352966 0.961702645]\n",
            "Time for epoch 3000,\n",
            "counter 3100:\n",
            "[0.549330235 0.658917904]\n",
            "Time for epoch 3100,\n",
            "counter 3200:\n",
            "[0.518716 0.768749177]\n",
            "Time for epoch 3200,\n",
            "counter 3300:\n",
            "[0.360731 0.696649075]\n",
            "Time for epoch 3300,\n",
            "counter 3400:\n",
            "[0.560255766 0.771820188]\n",
            "Time for epoch 3400,\n",
            "counter 3500:\n",
            "[0.434400082 0.766544223]\n",
            "Time for epoch 3500,\n",
            "counter 3600:\n",
            "[0.355157584 0.459281325]\n",
            "Time for epoch 3600,\n",
            "counter 3700:\n",
            "[0.313882142 0.671919227]\n",
            "Time for epoch 3700,\n",
            "counter 3800:\n",
            "[0.463566452 0.537470043]\n",
            "Time for epoch 3800,\n",
            "counter 3900:\n",
            "[0.499826282 0.668339729]\n",
            "Time for epoch 3900,\n",
            "counter 4000:\n",
            "[0.305701524 0.565552473]\n",
            "Time for epoch 4000,\n",
            "counter 4100:\n",
            "[0.732834101 0.711431623]\n",
            "Time for epoch 4100,\n",
            "counter 4200:\n",
            "[0.564767599 0.563719511]\n",
            "Time for epoch 4200,\n",
            "counter 4300:\n",
            "[0.571967483 0.65013361]\n",
            "Time for epoch 4300,\n",
            "counter 4400:\n",
            "[0.434883624 0.732791]\n",
            "Time for epoch 4400,\n",
            "counter 4500:\n",
            "[0.31281051 0.754602194]\n",
            "Time for epoch 4500,\n",
            "counter 4600:\n",
            "[0.385274559 0.896041572]\n",
            "Time for epoch 4600,\n",
            "counter 4700:\n",
            "[0.275138825 0.530541]\n",
            "Time for epoch 4700,\n",
            "counter 4800:\n",
            "[0.519933164 0.598569214]\n",
            "Time for epoch 4800,\n",
            "counter 4900:\n",
            "[0.543903232 0.828597546]\n",
            "Time for epoch 4900,\n",
            "counter 5000:\n",
            "[0.552281618 0.430285096]\n",
            "Time for epoch 5000,\n",
            "WARNING:tensorflow:From /usr/local/lib/python3.6/dist-packages/tensorflow_core/python/ops/resource_variable_ops.py:1781: calling BaseResourceVariable.__init__ (from tensorflow.python.ops.resource_variable_ops) with constraint is deprecated and will be removed in a future version.\n",
            "Instructions for updating:\n",
            "If using Keras pass *_constraint arguments to layers.\n",
            "INFO:tensorflow:Assets written to: /tmp/saved_model/assets\n",
            "Time for the training is 14.053214073181152 sec,\n",
            "False\n",
            "Time for the training is 14.05681562423706 sec,\n",
            "CPU times: user 19.6 s, sys: 475 ms, total: 20 s\n",
            "Wall time: 14.1 s\n"
          ],
          "name": "stdout"
        }
      ]
    },
    {
      "cell_type": "markdown",
      "metadata": {
        "id": "6GW2opX7SwMo",
        "colab_type": "text"
      },
      "source": [
        "\n",
        "# AE training"
      ]
    },
    {
      "cell_type": "code",
      "metadata": {
        "id": "FiuN3SZYpeTU",
        "colab_type": "code",
        "outputId": "957b5b2e-e004-44b8-c02c-34a2f5c4e798",
        "colab": {
          "base_uri": "https://localhost:8080/",
          "height": 517
        }
      },
      "source": [
        "%%time\n",
        "\n",
        "gan_decoder = get_gan_decoder(M)\n",
        "gan_encoder = get_gan_encoder(M)\n",
        "\n",
        "\n",
        "\n",
        "gan_AE = tf.keras.models.Sequential([gan_encoder,generator,gan_decoder])\n",
        "data, test_data = random_sample(10000000), random_sample(10000)\n",
        "start = time.time()\n",
        "gan_AE.compile(optimizer=keras.optimizers.Nadam(lr=0.005),loss='sparse_categorical_crossentropy',metrics=['accuracy'])\n",
        "history = gan_AE.fit(data, data, batch_size=500,steps_per_epoch=400, epochs=10)\n",
        "time_to_train_gan += time.time()-start\n",
        "tf.print ('Time for the training is {} sec,'.format( time.time()-start))\n",
        "gan_AE.summary()  "
      ],
      "execution_count": 26,
      "outputs": [
        {
          "output_type": "stream",
          "text": [
            "Train on 10000000 samples\n",
            "Epoch 1/10\n",
            "  199500/10000000 [..............................] - ETA: 2:49 - loss: 0.8786 - accuracy: 0.7928Epoch 2/10\n",
            "  195000/10000000 [..............................] - ETA: 1:15 - loss: 0.2303 - accuracy: 0.9413Epoch 3/10\n",
            "  198500/10000000 [..............................] - ETA: 1:14 - loss: 0.1799 - accuracy: 0.9465Epoch 4/10\n",
            "  193500/10000000 [..............................] - ETA: 1:10 - loss: 0.1659 - accuracy: 0.9493Epoch 5/10\n",
            "  194500/10000000 [..............................] - ETA: 1:11 - loss: 0.1556 - accuracy: 0.9519Epoch 6/10\n",
            "  195000/10000000 [..............................] - ETA: 1:09 - loss: 0.1526 - accuracy: 0.9531Epoch 7/10\n",
            "  199500/10000000 [..............................] - ETA: 1:06 - loss: 0.1460 - accuracy: 0.9548Epoch 8/10\n",
            "  197500/10000000 [..............................] - ETA: 1:17 - loss: 0.1443 - accuracy: 0.9559Epoch 9/10\n",
            "  197000/10000000 [..............................] - ETA: 1:34 - loss: 0.1423 - accuracy: 0.9555Epoch 10/10\n",
            "  194000/10000000 [..............................] - ETA: 1:05 - loss: 0.1379 - accuracy: 0.9569Time for the training is 17.308661699295044 sec,\n",
            "Model: \"sequential_9\"\n",
            "_________________________________________________________________\n",
            "Layer (type)                 Output Shape              Param #   \n",
            "=================================================================\n",
            "sequential_8 (Sequential)    (None, None)              562       \n",
            "_________________________________________________________________\n",
            "model_1 (Model)              (None, 2)                 1294      \n",
            "_________________________________________________________________\n",
            "sequential_7 (Sequential)    (None, 16)                320       \n",
            "=================================================================\n",
            "Total params: 2,176\n",
            "Trainable params: 882\n",
            "Non-trainable params: 1,294\n",
            "_________________________________________________________________\n",
            "CPU times: user 22.4 s, sys: 727 ms, total: 23.1 s\n",
            "Wall time: 17.6 s\n"
          ],
          "name": "stdout"
        }
      ]
    },
    {
      "cell_type": "markdown",
      "metadata": {
        "id": "ngrucnfWBOHl",
        "colab_type": "text"
      },
      "source": [
        "### Training MI"
      ]
    },
    {
      "cell_type": "code",
      "metadata": {
        "id": "CTnDsMN2IoOz",
        "colab_type": "code",
        "colab": {}
      },
      "source": [
        "loss_fn = keras.losses.SparseCategoricalCrossentropy()\n",
        "mean_loss = keras.metrics.Mean()"
      ],
      "execution_count": 0,
      "outputs": []
    },
    {
      "cell_type": "code",
      "metadata": {
        "id": "TZTfQcWRIoPn",
        "colab_type": "code",
        "outputId": "5dd293eb-b9cf-49da-bfb1-2e3b15bfba12",
        "colab": {
          "base_uri": "https://localhost:8080/",
          "height": 1000
        }
      },
      "source": [
        "%%time\n",
        "start = time.time()\n",
        "train_mi(n_epochs=1, n_steps=500, batch_size=100)\n",
        "train_encoder(n_epochs=5, n_steps=100, batch_size=500, learning_rate=0.005)\n",
        "#test_encoding(M, n)\n",
        "train_encoder(n_epochs=5, n_steps=100, batch_size=500, learning_rate=0.0005)\n",
        "#test_encoding(M, n)\n",
        "train_decoder(n_epochs=5, n_steps=100, batch_size=500, learning_rate=0.005, plot_encoding=False)\n",
        "time_to_train_mi= time.time()-start\n",
        "tf.print ('Time for the training is {} sec,'.format( time.time()-start))"
      ],
      "execution_count": 28,
      "outputs": [
        {
          "output_type": "stream",
          "text": [
            "Training in Epoch 1/1\n",
            "Epoch: 1, Mi is 1.9857680797576904\n",
            "Training Bob in Epoch 1/5\n",
            "Epoch: 1, Mi is 2.4169111251831055\n",
            "Training Bob in Epoch 2/5\n",
            "Epoch: 2, Mi is 2.395695447921753\n",
            "Training Bob in Epoch 3/5\n",
            "Epoch: 3, Mi is 2.432936906814575\n",
            "Training Bob in Epoch 4/5\n",
            "Epoch: 4, Mi is 2.4498403072357178\n",
            "Training Bob in Epoch 5/5\n",
            "Epoch: 5, Mi is 2.4670753479003906\n",
            "Training Bob in Epoch 1/5\n",
            "Epoch: 1, Mi is 2.484712839126587\n",
            "Training Bob in Epoch 2/5\n",
            "Epoch: 2, Mi is 2.492199182510376\n",
            "Training Bob in Epoch 3/5\n",
            "Epoch: 3, Mi is 2.5072922706604004\n",
            "Training Bob in Epoch 4/5\n",
            "Epoch: 4, Mi is 2.5158066749572754\n",
            "Training Bob in Epoch 5/5\n",
            "Epoch: 5, Mi is 2.520376443862915\n",
            "Training Bob in Epoch 1/5\n",
            "Iteration: 10, Epoch: 1, Loss: -2.46878, Batch_BER: 0.83000\n",
            "Iteration: 20, Epoch: 1, Loss: -2.41989, Batch_BER: 0.71000\n",
            "Iteration: 30, Epoch: 1, Loss: -2.37373, Batch_BER: 0.72000\n",
            "Iteration: 40, Epoch: 1, Loss: -2.33021, Batch_BER: 0.66800\n",
            "Iteration: 50, Epoch: 1, Loss: -2.28926, Batch_BER: 0.55000\n",
            "Iteration: 60, Epoch: 1, Loss: -2.25069, Batch_BER: 0.44600\n",
            "Iteration: 70, Epoch: 1, Loss: -2.21415, Batch_BER: 0.44200\n",
            "Iteration: 80, Epoch: 1, Loss: -2.17946, Batch_BER: 0.38200\n",
            "Iteration: 90, Epoch: 1, Loss: -2.14645, Batch_BER: 0.34200\n",
            "Iteration: 100, Epoch: 1, Loss: -2.11499, Batch_BER: 0.32800\n",
            "Interim result for Epoch: 1, Loss: -2.11499, Batch_BER: 0.32800\n",
            "Training Bob in Epoch 2/5\n",
            "Iteration: 10, Epoch: 2, Loss: 1.21367, Batch_BER: 0.25400\n",
            "Iteration: 20, Epoch: 2, Loss: 1.17334, Batch_BER: 0.20000\n",
            "Iteration: 30, Epoch: 2, Loss: 1.13364, Batch_BER: 0.14200\n",
            "Iteration: 40, Epoch: 2, Loss: 1.09651, Batch_BER: 0.12000\n",
            "Iteration: 50, Epoch: 2, Loss: 1.05990, Batch_BER: 0.12200\n",
            "Iteration: 60, Epoch: 2, Loss: 1.02595, Batch_BER: 0.08400\n",
            "Iteration: 70, Epoch: 2, Loss: 0.99404, Batch_BER: 0.08200\n",
            "Iteration: 80, Epoch: 2, Loss: 0.96345, Batch_BER: 0.06800\n",
            "Iteration: 90, Epoch: 2, Loss: 0.93452, Batch_BER: 0.07800\n",
            "Iteration: 100, Epoch: 2, Loss: 0.90733, Batch_BER: 0.06600\n",
            "Interim result for Epoch: 2, Loss: 0.90733, Batch_BER: 0.06600\n",
            "Training Bob in Epoch 3/5\n",
            "Iteration: 10, Epoch: 3, Loss: 0.62476, Batch_BER: 0.09800\n",
            "Iteration: 20, Epoch: 3, Loss: 0.60639, Batch_BER: 0.07600\n",
            "Iteration: 30, Epoch: 3, Loss: 0.58934, Batch_BER: 0.06600\n",
            "Iteration: 40, Epoch: 3, Loss: 0.57398, Batch_BER: 0.07600\n",
            "Iteration: 50, Epoch: 3, Loss: 0.56019, Batch_BER: 0.07400\n",
            "Iteration: 60, Epoch: 3, Loss: 0.54674, Batch_BER: 0.06600\n",
            "Iteration: 70, Epoch: 3, Loss: 0.53413, Batch_BER: 0.05600\n",
            "Iteration: 80, Epoch: 3, Loss: 0.52262, Batch_BER: 0.06200\n",
            "Iteration: 90, Epoch: 3, Loss: 0.51173, Batch_BER: 0.07800\n",
            "Iteration: 100, Epoch: 3, Loss: 0.50154, Batch_BER: 0.06400\n",
            "Interim result for Epoch: 3, Loss: 0.50154, Batch_BER: 0.06400\n",
            "Training Bob in Epoch 4/5\n",
            "Iteration: 10, Epoch: 4, Loss: 0.39554, Batch_BER: 0.07200\n",
            "Iteration: 20, Epoch: 4, Loss: 0.38699, Batch_BER: 0.05800\n",
            "Iteration: 30, Epoch: 4, Loss: 0.38150, Batch_BER: 0.07200\n",
            "Iteration: 40, Epoch: 4, Loss: 0.37330, Batch_BER: 0.05400\n",
            "Iteration: 50, Epoch: 4, Loss: 0.36632, Batch_BER: 0.04400\n",
            "Iteration: 60, Epoch: 4, Loss: 0.36171, Batch_BER: 0.06800\n",
            "Iteration: 70, Epoch: 4, Loss: 0.35594, Batch_BER: 0.06600\n",
            "Iteration: 80, Epoch: 4, Loss: 0.35152, Batch_BER: 0.06000\n",
            "Iteration: 90, Epoch: 4, Loss: 0.34711, Batch_BER: 0.08200\n",
            "Iteration: 100, Epoch: 4, Loss: 0.34274, Batch_BER: 0.06000\n",
            "Interim result for Epoch: 4, Loss: 0.34274, Batch_BER: 0.06000\n",
            "Training Bob in Epoch 5/5\n",
            "Iteration: 10, Epoch: 5, Loss: 0.29578, Batch_BER: 0.06000\n",
            "Iteration: 20, Epoch: 5, Loss: 0.29682, Batch_BER: 0.06800\n",
            "Iteration: 30, Epoch: 5, Loss: 0.29502, Batch_BER: 0.07800\n",
            "Iteration: 40, Epoch: 5, Loss: 0.28794, Batch_BER: 0.04800\n",
            "Iteration: 50, Epoch: 5, Loss: 0.28480, Batch_BER: 0.05800\n",
            "Iteration: 60, Epoch: 5, Loss: 0.28215, Batch_BER: 0.07200\n",
            "Iteration: 70, Epoch: 5, Loss: 0.27772, Batch_BER: 0.04800\n",
            "Iteration: 80, Epoch: 5, Loss: 0.27438, Batch_BER: 0.05000\n",
            "Iteration: 90, Epoch: 5, Loss: 0.27233, Batch_BER: 0.05600\n",
            "Iteration: 100, Epoch: 5, Loss: 0.26947, Batch_BER: 0.05400\n",
            "Interim result for Epoch: 5, Loss: 0.26947, Batch_BER: 0.05400\n",
            "Time for the training is 63.328749895095825 sec,\n",
            "CPU times: user 1min 1s, sys: 8.56 s, total: 1min 9s\n",
            "Wall time: 1min 3s\n"
          ],
          "name": "stdout"
        }
      ]
    },
    {
      "cell_type": "code",
      "metadata": {
        "id": "D5B2TUanPC5d",
        "colab_type": "code",
        "outputId": "cabe345a-5190-4f2e-e0fb-52aa9d8833b5",
        "colab": {
          "base_uri": "https://localhost:8080/",
          "height": 295
        }
      },
      "source": [
        "gan_encoder.trainable = False\n",
        "gan_decoder.trainable = False\n",
        "\n",
        "test_encoding(M,n)   \n"
      ],
      "execution_count": 29,
      "outputs": [
        {
          "output_type": "display_data",
          "data": {
            "image/png": "[encoded data removed]",
            "text/plain": [
              "<Figure size 288x288 with 1 Axes>"
            ]
          },
          "metadata": {
            "tags": []
          }
        }
      ]
    },
    {
      "cell_type": "code",
      "metadata": {
        "id": "ukO76l6yIoPc",
        "colab_type": "code",
        "colab": {}
      },
      "source": [
        "# test msg sequence for normal encoding\n",
        "N_test = 500000\n",
        "test_msg = np.random.randint(M, size=N_test)"
      ],
      "execution_count": 0,
      "outputs": []
    },
    {
      "cell_type": "code",
      "metadata": {
        "id": "9OU_MJZoZEfp",
        "colab_type": "code",
        "colab": {}
      },
      "source": [
        "#gan_encoder.summary()"
      ],
      "execution_count": 0,
      "outputs": []
    },
    {
      "cell_type": "markdown",
      "metadata": {
        "id": "IDL49c-WHZhQ",
        "colab_type": "text"
      },
      "source": [
        "Wasserstein GAN training"
      ]
    },
    {
      "cell_type": "code",
      "metadata": {
        "id": "n4gYXZf9hkzY",
        "colab_type": "code",
        "colab": {}
      },
      "source": [
        "@tf.function\n",
        "def w_train():\n",
        "  gen_gradients, disc_gradients = compute_gradients()\n",
        "  apply_gradients(gen_gradients, disc_gradients)"
      ],
      "execution_count": 0,
      "outputs": []
    },
    {
      "cell_type": "code",
      "metadata": {
        "id": "PPsFbJwchvhq",
        "colab_type": "code",
        "colab": {}
      },
      "source": [
        "def compute_gradients():\n",
        "  \"\"\" passes through the network and computes loss\n",
        "  \"\"\"\n",
        "  x= tf.random.normal((batch_size,n),dtype=tf.dtypes.float32)\n",
        "  x =x/tf.sqrt(2*tf.reduce_mean(tf.square(x)))\n",
        "  real_data = tf.concat(values=[real_channel(x,noise_std), x], axis=1)\n",
        "  with tf.GradientTape() as gen_tape, tf.GradientTape() as disc_tape:\n",
        "    disc_loss, gen_loss = compute_loss(real_data)\n",
        "  gen_gradients = gen_tape.gradient(gen_loss, w_generator.trainable_variables)\n",
        "  disc_gradients = disc_tape.gradient(disc_loss, w_discriminator.trainable_variables)\n",
        "\n",
        "  #print(\"compute_gradients\")\n",
        "\n",
        "  return gen_gradients, disc_gradients"
      ],
      "execution_count": 0,
      "outputs": []
    },
    {
      "cell_type": "code",
      "metadata": {
        "ExecuteTime": {
          "end_time": "2019-05-14T06:31:38.068468Z",
          "start_time": "2019-05-14T06:31:38.046751Z"
        },
        "colab_type": "code",
        "id": "Wyipg-4oSYb1",
        "colab": {}
      },
      "source": [
        "def compute_loss(real_data):\n",
        "  \"\"\" passes through the network and computes loss\n",
        "  \"\"\"\n",
        "        ### pass through network\n",
        "        # generating noise from a uniform distribution\n",
        "  ####Mein noise ist anders als hier\n",
        "  gradient_penalty_weight = 0.1   #0.5\n",
        "  x= tf.random.normal((batch_size,n),dtype=tf.dtypes.float32)\n",
        "  x_samp =x/tf.sqrt(2*tf.reduce_mean(tf.square(x)))\n",
        "  #print(x_samp)\n",
        "  # run noise through generator\n",
        "  x_gen = tf.concat(values=[w_generator(x_samp),x_samp], axis=1)     # x_gen zu fake_data\n",
        "  # discriminate x and x_gen\n",
        "  logits_x = w_discriminator(real_data)\n",
        "  logits_x_gen = w_discriminator(x_gen)\n",
        "\n",
        "  # gradient penalty\n",
        "  d_regularizer = gradient_penalty(real_data, x_gen)\n",
        "        ### losses\n",
        "  disc_loss = (tf.reduce_mean(logits_x) - tf.reduce_mean(logits_x_gen)+ d_regularizer * gradient_penalty_weight)\n",
        "\n",
        "        # losses of fake with label \"1\"\n",
        "  gen_loss = tf.reduce_mean(logits_x_gen)\n",
        "  return disc_loss, gen_loss\n",
        "\n",
        "\n",
        "\n",
        "def apply_gradients(gen_gradients, disc_gradients):\n",
        "  w_gen_optimizer.apply_gradients(zip(gen_gradients, w_generator.trainable_variables))\n",
        "  w_disc_optimizer.apply_gradients(zip(disc_gradients, w_discriminator.trainable_variables))\n",
        "\n",
        "def gradient_penalty(x, x_gen):\n",
        "  epsilon = tf.random.uniform([x.shape[0], 1, 1, 1], 0.0, 1.0)\n",
        "  x_hat = epsilon * x + (1 - epsilon) * x_gen\n",
        "  with tf.GradientTape() as t:\n",
        "      t.watch(x_hat)\n",
        "      d_hat = w_discriminator(x_hat)\n",
        "  gradients = t.gradient(d_hat, x_hat)\n",
        "  ddx = tf.sqrt(tf.reduce_sum(gradients ** 2, axis=[1, 2]))\n",
        "  d_regularizer = tf.reduce_mean((ddx - 1.0) ** 2)\n",
        "  #print(\"gradient_penalty\")\n",
        "  return d_regularizer\n",
        "\n"
      ],
      "execution_count": 0,
      "outputs": []
    },
    {
      "cell_type": "code",
      "metadata": {
        "ExecuteTime": {
          "end_time": "2019-05-14T06:31:39.047233Z",
          "start_time": "2019-05-14T06:31:38.222179Z"
        },
        "colab_type": "code",
        "id": "dSYjNRAwSYb7",
        "colab": {}
      },
      "source": [
        "# optimizers\n",
        "w_gen_optimizer = tf.keras.optimizers.Adam(0.0001, beta_1=0.5)#,beta_2 =0.1)  #RMSprop(0.0001) works as well\n",
        "w_disc_optimizer = tf.keras.optimizers.Adam(0.0001, beta_1=0.5)#,beta_2 =0.1)  #(0.001)# train the model\n"
      ],
      "execution_count": 0,
      "outputs": []
    },
    {
      "cell_type": "code",
      "metadata": {
        "ExecuteTime": {
          "end_time": "2019-05-14T06:31:39.152670Z",
          "start_time": "2019-05-14T06:31:39.058505Z"
        },
        "colab_type": "code",
        "id": "pKkEX9yBSYcB",
        "colab": {}
      },
      "source": [
        "# a pandas dataframe to save the loss information to\n",
        "losses = pd.DataFrame(columns = ['disc_loss', 'gen_loss'])\n",
        "time_to_train_w_gan = 0"
      ],
      "execution_count": 0,
      "outputs": []
    },
    {
      "cell_type": "code",
      "metadata": {
        "ExecuteTime": {
          "end_time": "2019-05-14T07:04:26.791634Z",
          "start_time": "2019-05-14T07:04:17.126436Z"
        },
        "colab_type": "code",
        "id": "00dI2M4iSYcE",
        "outputId": "c9e9ae97-65fc-4ea7-8d16-4937ac24e4ef",
        "cellView": "code",
        "colab": {
          "base_uri": "https://localhost:8080/",
          "height": 660
        }
      },
      "source": [
        "%%time\n",
        "batch_size = 100\n",
        "n_epochs = 2501   #2501\n",
        "start = time.time()\n",
        "for epoch in range(n_epochs):\n",
        "  x= tf.random.normal((batch_size,n),dtype=tf.dtypes.float32)\n",
        "  x_samp =x/tf.sqrt(2*tf.reduce_mean(tf.square(x)))\n",
        "  w_train()\n",
        "    # test on holdout\n",
        "  loss = []\n",
        "  if epoch%500 == 0:\n",
        "    real_c = tf.concat(values=[real_channel(x,noise_std), x], axis=1)\n",
        "    fake_c = w_generator(x)\n",
        "    #real_eval_data, fake_eval_data, inputs = get_evaluation_data()\n",
        "    #test_eval(real_eval_data, fake_eval_data, inputs)\n",
        "    tf.print(fake_c[0])\n",
        "    #tf.print(disc_loss, gen_loss)\n",
        "  real_data = tf.concat(values=[real_channel(x,noise_std), x], axis=1)  \n",
        "  loss.append(compute_loss(real_data))\n",
        "  losses.loc[len(losses)] = np.mean(loss, axis=0)\n",
        "  if epoch%100 == 0:\n",
        "    print(\n",
        "       \"Epoch: {} | disc_loss: {} | gen_loss: {}\".format(\n",
        "            epoch, losses.disc_loss.values[-1], losses.gen_loss.values[-1]\n",
        "        )  )\n",
        "time_to_train_w_gan += time.time()-start\n",
        "print()\n",
        "tf.saved_model.save(w_generator,'/tmp/saved_model/')"
      ],
      "execution_count": 37,
      "outputs": [
        {
          "output_type": "stream",
          "text": [
            "[0.16060935 0.00944230705]\n",
            "Epoch: 0 | disc_loss: 0.0766509398818016 | gen_loss: 0.49864423274993896\n",
            "Epoch: 100 | disc_loss: 0.046292178332805634 | gen_loss: 0.4994540512561798\n",
            "Epoch: 200 | disc_loss: 0.04191121459007263 | gen_loss: 0.4906556308269501\n",
            "Epoch: 300 | disc_loss: 0.03165322169661522 | gen_loss: 0.4983702003955841\n",
            "Epoch: 400 | disc_loss: 0.01042231172323227 | gen_loss: 0.5218945145606995\n",
            "[-0.601687372 -0.156715766]\n",
            "Epoch: 500 | disc_loss: -0.0313902422785759 | gen_loss: 0.5302461385726929\n",
            "Epoch: 600 | disc_loss: 0.02352713793516159 | gen_loss: 0.45662766695022583\n",
            "Epoch: 700 | disc_loss: 0.03307569772005081 | gen_loss: 0.46432504057884216\n",
            "Epoch: 800 | disc_loss: -0.037785604596138 | gen_loss: 0.5276745557785034\n",
            "Epoch: 900 | disc_loss: -0.09916341304779053 | gen_loss: 0.5586404204368591\n",
            "[0.646110415 0.0420811251]\n",
            "Epoch: 1000 | disc_loss: -0.07401721924543381 | gen_loss: 0.5244244933128357\n",
            "Epoch: 1100 | disc_loss: -0.017699770629405975 | gen_loss: 0.4712587296962738\n",
            "Epoch: 1200 | disc_loss: 0.03150538355112076 | gen_loss: 0.4364427328109741\n",
            "Epoch: 1300 | disc_loss: -0.04004456102848053 | gen_loss: 0.5011851191520691\n",
            "Epoch: 1400 | disc_loss: -0.06978889554738998 | gen_loss: 0.5182616710662842\n",
            "[-0.593861938 0.677673757]\n",
            "Epoch: 1500 | disc_loss: -0.043571989983320236 | gen_loss: 0.4871896803379059\n",
            "Epoch: 1600 | disc_loss: -0.024378042668104172 | gen_loss: 0.4611610174179077\n",
            "Epoch: 1700 | disc_loss: -0.010624262504279613 | gen_loss: 0.44587039947509766\n",
            "Epoch: 1800 | disc_loss: -0.0192568376660347 | gen_loss: 0.445831835269928\n",
            "Epoch: 1900 | disc_loss: -0.005190467461943626 | gen_loss: 0.4420323073863983\n",
            "[0.283454359 0.125772208]\n",
            "Epoch: 2000 | disc_loss: -0.013979166746139526 | gen_loss: 0.44982588291168213\n",
            "Epoch: 2100 | disc_loss: -0.019476518034934998 | gen_loss: 0.45810118317604065\n",
            "Epoch: 2200 | disc_loss: 0.0177441518753767 | gen_loss: 0.43937844038009644\n",
            "Epoch: 2300 | disc_loss: 0.010877931490540504 | gen_loss: 0.45312899351119995\n",
            "Epoch: 2400 | disc_loss: -0.00055735744535923 | gen_loss: 0.46861502528190613\n",
            "[-0.220054165 -0.105061844]\n",
            "Epoch: 2500 | disc_loss: -0.0050665587186813354 | gen_loss: 0.4629852771759033\n",
            "\n",
            "INFO:tensorflow:Assets written to: /tmp/saved_model/assets\n",
            "CPU times: user 1min 27s, sys: 6.52 s, total: 1min 33s\n",
            "Wall time: 1min 13s\n"
          ],
          "name": "stdout"
        }
      ]
    },
    {
      "cell_type": "code",
      "metadata": {
        "id": "PB4rw6Qhtdbe",
        "colab_type": "code",
        "colab": {}
      },
      "source": [
        "w_generator.trainable =False"
      ],
      "execution_count": 0,
      "outputs": []
    },
    {
      "cell_type": "code",
      "metadata": {
        "colab_type": "code",
        "outputId": "d824fdb1-327e-400c-9e2e-3af4b7942a51",
        "id": "RpXE1rEFJSwC",
        "colab": {
          "base_uri": "https://localhost:8080/",
          "height": 537
        }
      },
      "source": [
        "\n",
        "%%time\n",
        "w_gan_decoder = get_gan_decoder(M)\n",
        "w_gan_encoder = get_gan_encoder(M)\n",
        "\n",
        "gan_AE = tf.keras.models.Sequential([w_gan_encoder,w_generator,w_gan_decoder])\n",
        "data, test_data = random_sample(10000000), random_sample(10000)\n",
        "start = time.time()\n",
        "gan_AE.compile(optimizer=tf.keras.optimizers.Nadam(lr=0.005),loss='sparse_categorical_crossentropy',metrics=['accuracy'])\n",
        "history = gan_AE.fit(data, data, batch_size=500,steps_per_epoch=400, epochs=10)\n",
        "#time_to_train_gan += time.time()-start\n",
        "time_to_train_w_gan += time.time()-start\n",
        "tf.print ('Time for the training is {} sec,'.format(time_to_train_w_gan))\n",
        "gan_AE.summary()  "
      ],
      "execution_count": 39,
      "outputs": [
        {
          "output_type": "stream",
          "text": [
            "Train on 10000000 samples\n",
            "Epoch 1/10\n",
            "  200000/10000000 [..............................] - ETA: 3:01 - loss: 0.8386 - accuracy: 0.8281Epoch 2/10\n",
            "  197500/10000000 [..............................] - ETA: 1:14 - loss: 0.0623 - accuracy: 1.0000Epoch 3/10\n",
            "  198500/10000000 [..............................] - ETA: 1:14 - loss: 0.0169 - accuracy: 1.0000Epoch 4/10\n",
            "  196500/10000000 [..............................] - ETA: 1:15 - loss: 0.0078 - accuracy: 1.0000Epoch 5/10\n",
            "  196000/10000000 [..............................] - ETA: 1:12 - loss: 0.0045 - accuracy: 1.0000Epoch 6/10\n",
            "  200000/10000000 [..............................] - ETA: 1:16 - loss: 0.0028 - accuracy: 1.0000Epoch 7/10\n",
            "  195500/10000000 [..............................] - ETA: 1:12 - loss: 0.0019 - accuracy: 1.0000Epoch 8/10\n",
            "  196500/10000000 [..............................] - ETA: 1:12 - loss: 0.0014 - accuracy: 1.0000Epoch 9/10\n",
            "  195000/10000000 [..............................] - ETA: 1:12 - loss: 9.8144e-04 - accuracy: 1.0000Epoch 10/10\n",
            "  195500/10000000 [..............................] - ETA: 1:13 - loss: 7.3421e-04 - accuracy: 1.0000Time for the training is 89.9627013206482 sec,\n",
            "Model: \"sequential_12\"\n",
            "_________________________________________________________________\n",
            "Layer (type)                 Output Shape              Param #   \n",
            "=================================================================\n",
            "sequential_11 (Sequential)   (None, None)              562       \n",
            "_________________________________________________________________\n",
            "model (Model)                (None, 2)                 1294      \n",
            "_________________________________________________________________\n",
            "sequential_10 (Sequential)   (None, 16)                320       \n",
            "=================================================================\n",
            "Total params: 2,176\n",
            "Trainable params: 882\n",
            "Non-trainable params: 1,294\n",
            "_________________________________________________________________\n",
            "CPU times: user 22.6 s, sys: 626 ms, total: 23.2 s\n",
            "Wall time: 17.6 s\n"
          ],
          "name": "stdout"
        }
      ]
    },
    {
      "cell_type": "code",
      "metadata": {
        "colab_type": "code",
        "outputId": "ed69d6af-a242-4274-94cc-ab03cccf9ae0",
        "id": "1FqJP20JLu-j",
        "colab": {
          "base_uri": "https://localhost:8080/",
          "height": 295
        }
      },
      "source": [
        "w_gan_encoder.trainable = False\n",
        "w_gan_decoder.trainable = False\n",
        "\n",
        "test_w_encoding(M=M,n=n)   \n"
      ],
      "execution_count": 40,
      "outputs": [
        {
          "output_type": "display_data",
          "data": {
            "image/png": "[encoded data removed]",
            "text/plain": [
              "<Figure size 288x288 with 1 Axes>"
            ]
          },
          "metadata": {
            "tags": []
          }
        }
      ]
    },
    {
      "cell_type": "markdown",
      "metadata": {
        "id": "PK5wA-zzHScv",
        "colab_type": "text"
      },
      "source": [
        "### Comparison"
      ]
    },
    {
      "cell_type": "code",
      "metadata": {
        "colab_type": "code",
        "outputId": "952fef16-8ce6-4611-9bfe-90e4e38db86d",
        "id": "RzC-yCM_wKW9",
        "colab": {
          "base_uri": "https://localhost:8080/",
          "height": 106
        }
      },
      "source": [
        "mi_bber_data = mi_Test_AE(test_msg)"
      ],
      "execution_count": 41,
      "outputs": [
        {
          "output_type": "stream",
          "text": [
            "Progress: 6 of 30 parts\n",
            "Progress: 12 of 30 parts\n",
            "Progress: 18 of 30 parts\n",
            "Progress: 24 of 30 parts\n",
            "Progress: 30 of 30 parts\n"
          ],
          "name": "stdout"
        }
      ]
    },
    {
      "cell_type": "code",
      "metadata": {
        "id": "7M-S0sbhIoPw",
        "colab_type": "code",
        "outputId": "bb502f9d-8773-40b7-c165-ee69fb12820b",
        "colab": {
          "base_uri": "https://localhost:8080/",
          "height": 106
        }
      },
      "source": [
        "gan_bber_data = gan_Test_AE(test_msg)"
      ],
      "execution_count": 42,
      "outputs": [
        {
          "output_type": "stream",
          "text": [
            "Progress: 6 of 30 parts\n",
            "Progress: 12 of 30 parts\n",
            "Progress: 18 of 30 parts\n",
            "Progress: 24 of 30 parts\n",
            "Progress: 30 of 30 parts\n"
          ],
          "name": "stdout"
        }
      ]
    },
    {
      "cell_type": "code",
      "metadata": {
        "id": "9f4bW0QpJkhb",
        "colab_type": "code",
        "colab": {
          "base_uri": "https://localhost:8080/",
          "height": 106
        },
        "outputId": "f4935725-40ee-4356-c80e-37b4499cae43"
      },
      "source": [
        "w_gan_bber_data = w_gan_Test_AE(test_msg)"
      ],
      "execution_count": 43,
      "outputs": [
        {
          "output_type": "stream",
          "text": [
            "Progress: 6 of 30 parts\n",
            "Progress: 12 of 30 parts\n",
            "Progress: 18 of 30 parts\n",
            "Progress: 24 of 30 parts\n",
            "Progress: 30 of 30 parts\n"
          ],
          "name": "stdout"
        }
      ]
    },
    {
      "cell_type": "code",
      "metadata": {
        "id": "UYdEm0eQIoP2",
        "colab_type": "code",
        "outputId": "80eebbb1-4bc5-4932-f35a-45e0f5cf9601",
        "colab": {
          "base_uri": "https://localhost:8080/",
          "height": 406
        }
      },
      "source": [
        "# Approximate 16 QAM Error\n",
        "def SIXT_QAM_sim(ebno):\n",
        "    return (3.0/2)*special.erfc(np.sqrt((4.0/10)*10.**(ebno/10)))\n",
        "\n",
        "ebnodbs = np.linspace(0,15,16)\n",
        "fig = plt.figure(figsize=(8, 5))\n",
        "plt.semilogy(mi_bber_data[0], mi_bber_data[1], 'o-')\n",
        "plt.semilogy(gan_bber_data[0], gan_bber_data[1], '^-')\n",
        "plt.semilogy(w_gan_bber_data[0], w_gan_bber_data[1], '+-')\n",
        "plt.semilogy(ebnodbs, SIXT_QAM_sim(ebnodbs), '*-');\n",
        "plt.gca().set_ylim(1e-5, 1)\n",
        "plt.gca().set_xlim(0, 15)\n",
        "plt.ylabel(\"Batch Symbol Error Rate\", fontsize=14, rotation=90)\n",
        "plt.xlabel(\"SNR [dB]\", fontsize=18)\n",
        "plt.legend(['AE with MINE','AE with GAN','AE with WGAN', '16QAM'],\n",
        "           prop={'size': 14}, loc='upper right');\n",
        "plt.grid(True, which=\"both\")\n",
        "\n",
        "print('time to train the AE Model with MI',time_to_train_mi)\n",
        "print('time to train the AE Model with GAN',time_to_train_gan)\n",
        "tf.print ('time to train the AE Model with WGAN,',time_to_train_w_gan)"
      ],
      "execution_count": 44,
      "outputs": [
        {
          "output_type": "stream",
          "text": [
            "time to train the AE Model with MI 63.32874536514282\n",
            "time to train the AE Model with GAN 31.365469455718994\n",
            "time to train the AE Model with WGAN, 89.9627013206482\n"
          ],
          "name": "stdout"
        },
        {
          "output_type": "display_data",
          "data": {
            "image/png": "[encoded data removed]",
            "text/plain": [
              "<Figure size 576x360 with 1 Axes>"
            ]
          },
          "metadata": {
            "tags": []
          }
        }
      ]
    },
    {
      "cell_type": "code",
      "metadata": {
        "id": "bBes21qLlcS8",
        "colab_type": "code",
        "colab": {}
      },
      "source": [
        "#generator.summary()"
      ],
      "execution_count": 0,
      "outputs": []
    },
    {
      "cell_type": "code",
      "metadata": {
        "id": "q60pg9b9Rz7C",
        "colab_type": "code",
        "outputId": "9ce67e7c-6f24-498d-8d2d-3ab9216ccf24",
        "colab": {
          "base_uri": "https://localhost:8080/",
          "height": 55
        }
      },
      "source": [
        "print(gan_bber_data[1])"
      ],
      "execution_count": 46,
      "outputs": [
        {
          "output_type": "stream",
          "text": [
            "[<tf.Tensor: id=1167997, shape=(), dtype=float32, numpy=0.474934>, <tf.Tensor: id=1168049, shape=(), dtype=float32, numpy=0.443874>, <tf.Tensor: id=1168101, shape=(), dtype=float32, numpy=0.413276>, <tf.Tensor: id=1168153, shape=(), dtype=float32, numpy=0.38206>, <tf.Tensor: id=1168205, shape=(), dtype=float32, numpy=0.34831>, <tf.Tensor: id=1168257, shape=(), dtype=float32, numpy=0.317248>, <tf.Tensor: id=1168309, shape=(), dtype=float32, numpy=0.286014>, <tf.Tensor: id=1168361, shape=(), dtype=float32, numpy=0.25317>, <tf.Tensor: id=1168413, shape=(), dtype=float32, numpy=0.224596>, <tf.Tensor: id=1168465, shape=(), dtype=float32, numpy=0.196254>, <tf.Tensor: id=1168517, shape=(), dtype=float32, numpy=0.167636>, <tf.Tensor: id=1168569, shape=(), dtype=float32, numpy=0.141908>, <tf.Tensor: id=1168621, shape=(), dtype=float32, numpy=0.119074>, <tf.Tensor: id=1168673, shape=(), dtype=float32, numpy=0.098306>, <tf.Tensor: id=1168725, shape=(), dtype=float32, numpy=0.079698>, <tf.Tensor: id=1168777, shape=(), dtype=float32, numpy=0.063784>, <tf.Tensor: id=1168829, shape=(), dtype=float32, numpy=0.050424>, <tf.Tensor: id=1168881, shape=(), dtype=float32, numpy=0.038736>, <tf.Tensor: id=1168933, shape=(), dtype=float32, numpy=0.029508>, <tf.Tensor: id=1168985, shape=(), dtype=float32, numpy=0.022166>, <tf.Tensor: id=1169037, shape=(), dtype=float32, numpy=0.015898>, <tf.Tensor: id=1169089, shape=(), dtype=float32, numpy=0.011612>, <tf.Tensor: id=1169141, shape=(), dtype=float32, numpy=0.008204>, <tf.Tensor: id=1169193, shape=(), dtype=float32, numpy=0.005362>, <tf.Tensor: id=1169245, shape=(), dtype=float32, numpy=0.003706>, <tf.Tensor: id=1169297, shape=(), dtype=float32, numpy=0.00245>, <tf.Tensor: id=1169349, shape=(), dtype=float32, numpy=0.00159>, <tf.Tensor: id=1169401, shape=(), dtype=float32, numpy=0.000956>, <tf.Tensor: id=1169453, shape=(), dtype=float32, numpy=0.00055>, <tf.Tensor: id=1169505, shape=(), dtype=float32, numpy=0.00028>, <tf.Tensor: id=1169557, shape=(), dtype=float32, numpy=0.00016>]\n"
          ],
          "name": "stdout"
        }
      ]
    },
    {
      "cell_type": "code",
      "metadata": {
        "id": "RJl0KB-5at3r",
        "colab_type": "code",
        "colab": {}
      },
      "source": [
        ""
      ],
      "execution_count": 0,
      "outputs": []
    }
  ]
}